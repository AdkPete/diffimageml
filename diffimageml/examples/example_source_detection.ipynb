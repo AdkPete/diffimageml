{
 "cells": [
  {
   "cell_type": "markdown",
   "metadata": {},
   "source": [
    "# Using Threshold - Based Source Detection and Confusion Matrix\n",
    "This notebook provides an example of how to run the astropy - based source detection on a fits file. This also demonstrates how to generate a confusion matrix based on the results of the source detection."
   ]
  },
  {
   "cell_type": "code",
   "execution_count": 21,
   "metadata": {},
   "outputs": [],
   "source": [
    "import astropy\n",
    "from astropy.io import fits\n",
    "from astropy.coordinates import SkyCoord\n",
    "from astropy.wcs import WCS\n",
    "from astropy.wcs.utils import skycoord_to_pixel\n",
    "from astropy.stats import sigma_clipped_stats,gaussian_fwhm_to_sigma,gaussian_sigma_to_fwhm\n",
    "from astropy.table import Table,Column,Row,vstack,setdiff,join\n",
    "from astropy.nddata import Cutout2D,NDData\n",
    "import astropy.units as u\n",
    "import os \n",
    "import matplotlib.pyplot as plt\n",
    "from astropy.visualization import ZScaleInterval,simple_norm\n",
    "from astropy.wcs.utils import skycoord_to_pixel, pixel_to_skycoord\n",
    "\n",
    "import photutils\n",
    "from photutils.datasets import make_gaussian_sources_image\n",
    "\n",
    "import numpy as np\n",
    "import itertools\n",
    "import copy\n",
    "\n",
    "import matplotlib\n",
    "from astropy.visualization import ZScaleInterval,simple_norm\n",
    "zscale = ZScaleInterval()\n",
    "import pickle\n",
    "import numpy as np"
   ]
  },
  {
   "cell_type": "code",
   "execution_count": 22,
   "metadata": {},
   "outputs": [],
   "source": [
    "import diffimageml\n",
    "from diffimageml import fakeplanting, util"
   ]
  },
  {
   "cell_type": "markdown",
   "metadata": {},
   "source": [
    "# Make a FitsImage class object with the desired image"
   ]
  },
  {
   "cell_type": "code",
   "execution_count": 23,
   "metadata": {},
   "outputs": [],
   "source": [
    "example_file = \"../test_data/sky_image_1.fits.fz\"\n",
    "FitsImageExample = diffimageml.FitsImage(example_file)"
   ]
  },
  {
   "cell_type": "markdown",
   "metadata": {},
   "source": [
    "# Run source detection"
   ]
  },
  {
   "cell_type": "code",
   "execution_count": 27,
   "metadata": {},
   "outputs": [
    {
     "name": "stderr",
     "output_type": "stream",
     "text": [
      "WARNING: FITSFixedWarning: 'obsfix' made the change 'Set OBSGEO-L to   149.070647 from OBSGEO-[XYZ].\n",
      "Set OBSGEO-B to   -31.272933 from OBSGEO-[XYZ].\n",
      "Set OBSGEO-H to     1164.993 from OBSGEO-[XYZ]'. [astropy.wcs.wcs]\n"
     ]
    },
    {
     "name": "stdout",
     "output_type": "stream",
     "text": [
      "<photutils.segmentation.properties.SourceProperties>\n",
      "label: 1\n",
      "centroid (x, y): (833.3810, 31.6253)\n",
      "sky_centroid: None\n"
     ]
    }
   ],
   "source": [
    "sources = FitsImageExample.detect_sources()\n",
    "print (sources[0])"
   ]
  },
  {
   "cell_type": "markdown",
   "metadata": {},
   "source": [
    "# Confusion Matrix example\n",
    "   The confusion matrix requires a fakeplanter object, which needs to have images with fakes planted."
   ]
  },
  {
   "cell_type": "code",
   "execution_count": 40,
   "metadata": {},
   "outputs": [
    {
     "name": "stderr",
     "output_type": "stream",
     "text": [
      "WARNING: FITSFixedWarning: 'obsfix' made the change 'Set OBSGEO-L to   149.070647 from OBSGEO-[XYZ].\n",
      "Set OBSGEO-B to   -31.272933 from OBSGEO-[XYZ].\n",
      "Set OBSGEO-H to     1164.993 from OBSGEO-[XYZ]'. [astropy.wcs.wcs]\n"
     ]
    }
   ],
   "source": [
    "#Load examle with fakes\n",
    "diffim = \"../test_data/diff_pydia_1_fakegrid.fits\"\n",
    "search_im = \"../test_data/sky_image_1.fits.fz\"\n",
    "fake_sn = diffimageml.FakePlanter(diffim , searchim_fitsfilename = search_im)"
   ]
  },
  {
   "cell_type": "code",
   "execution_count": 41,
   "metadata": {},
   "outputs": [
    {
     "name": "stdout",
     "output_type": "stream",
     "text": [
      "Gaia catalog ../test_data/sky_image_1_GaiaCat.ecsv exists. \n",
      "Reading without fetching.\n"
     ]
    },
    {
     "name": "stderr",
     "output_type": "stream",
     "text": [
      "/Users/Peter/Library/Python/3.7/lib/python/site-packages/numpy/core/fromnumeric.py:748: UserWarning: Warning: 'partition' will ignore the 'mask' of the MaskedArray.\n",
      "  a.partition(kth, axis=axis, kind=kind, order=order)\n",
      "/Users/Peter/Library/Python/3.7/lib/python/site-packages/numpy/core/fromnumeric.py:748: UserWarning: Warning: 'partition' will ignore the 'mask' of the MaskedArray.\n",
      "  a.partition(kth, axis=axis, kind=kind, order=order)\n",
      "/Users/Peter/Library/Python/3.7/lib/python/site-packages/numpy/core/fromnumeric.py:748: UserWarning: Warning: 'partition' will ignore the 'mask' of the MaskedArray.\n",
      "  a.partition(kth, axis=axis, kind=kind, order=order)\n",
      "/Users/Peter/Library/Python/3.7/lib/python/site-packages/numpy/core/fromnumeric.py:748: UserWarning: Warning: 'partition' will ignore the 'mask' of the MaskedArray.\n",
      "  a.partition(kth, axis=axis, kind=kind, order=order)\n",
      "/Users/Peter/Library/Python/3.7/lib/python/site-packages/numpy/core/fromnumeric.py:748: UserWarning: Warning: 'partition' will ignore the 'mask' of the MaskedArray.\n",
      "  a.partition(kth, axis=axis, kind=kind, order=order)\n",
      "/Users/Peter/Library/Python/3.7/lib/python/site-packages/astropy/table/row.py:76: FutureWarning: elementwise == comparison failed and returning scalar instead; this will raise an error or perform elementwise comparison in the future.\n",
      "  return self.as_void() == other\n"
     ]
    },
    {
     "name": "stdout",
     "output_type": "stream",
     "text": [
      " x    y   detect        mag        \n",
      "---- ---- ------ ------------------\n",
      " 100  100      1  16.58507718268365\n",
      " 100  200      1 16.589656194870322\n",
      " 100  300      1  16.58538909278126\n",
      " 100  400      1 16.581846608179593\n",
      " 100  500      1  16.57693919196567\n",
      " 100  600      1 16.586929393934767\n",
      " 100  700      1 16.582391736322354\n",
      " 100  800      1 16.585706995904182\n",
      " 100  900      1  16.58519974811047\n",
      " 100 1000      1  16.58428879954485\n",
      " ...  ...    ...                ...\n",
      "2100 1100      1  16.58363471997946\n",
      "2100 1200      1  16.58780784031031\n",
      "2100 1300      1 16.577510113189874\n",
      "2100 1400      1  16.58439965497042\n",
      "2100 1500      1 16.590504001711274\n",
      "2100 1600      1  16.58348138471257\n",
      "2100 1700      1 16.586621399740235\n",
      "2100 1800      1 16.582318657498973\n",
      "2100 1900      1  16.59046309215767\n",
      "2100 2000      1  16.58806166443344\n",
      "2100 2100      1 16.585429412644338\n",
      "Length = 440 rows\n"
     ]
    },
    {
     "name": "stderr",
     "output_type": "stream",
     "text": [
      "/Users/Peter/Library/Python/3.7/lib/python/site-packages/astropy/table/table.py:3183: FutureWarning: elementwise == comparison failed and returning scalar instead; this will raise an error or perform elementwise comparison in the future.\n",
      "  result = self.as_array() == other\n"
     ]
    }
   ],
   "source": [
    "matrix = fake_sn.confusion_matrix()"
   ]
  },
  {
   "cell_type": "markdown",
   "metadata": {},
   "source": [
    "The output matrix is a list of astropy tables containing the locations and magnitudes for the sources in the given categories. To simply display the resulting 2x2 matrix, use the following."
   ]
  },
  {
   "cell_type": "code",
   "execution_count": 42,
   "metadata": {},
   "outputs": [
    {
     "name": "stdout",
     "output_type": "stream",
     "text": [
      "440 1\n",
      "588 0\n"
     ]
    }
   ],
   "source": [
    "print (len(matrix[0]) , len(matrix[1]))\n",
    "print (len(matrix[2]) , 0) ##No true negatives"
   ]
  },
  {
   "cell_type": "markdown",
   "metadata": {},
   "source": [
    "In this case we recover 440 True positives, one False negative and 588 false positives. We can also make a confusion matrix that imposes magnitude limits. For this example, the fake sources have magnitudes around 16.5, so if we limit the magnitudes to be between 18 and 22, we filter out all the true positives."
   ]
  },
  {
   "cell_type": "code",
   "execution_count": 43,
   "metadata": {},
   "outputs": [
    {
     "name": "stderr",
     "output_type": "stream",
     "text": [
      "/Users/Peter/Library/Python/3.7/lib/python/site-packages/astropy/table/table.py:3183: FutureWarning: elementwise == comparison failed and returning scalar instead; this will raise an error or perform elementwise comparison in the future.\n",
      "  result = self.as_array() == other\n"
     ]
    }
   ],
   "source": [
    "matrix = fake_sn.confusion_matrix(low_mag_lim = 18 , high_mag_lim = 22)"
   ]
  },
  {
   "cell_type": "code",
   "execution_count": 44,
   "metadata": {},
   "outputs": [
    {
     "name": "stdout",
     "output_type": "stream",
     "text": [
      "0 0\n",
      "1 0\n"
     ]
    }
   ],
   "source": [
    "print (len(matrix[0]) , len(matrix[1]))\n",
    "print (len(matrix[2]) , 0) ##No true negatives"
   ]
  },
  {
   "cell_type": "code",
   "execution_count": null,
   "metadata": {},
   "outputs": [],
   "source": []
  }
 ],
 "metadata": {
  "kernelspec": {
   "display_name": "Python 3",
   "language": "python",
   "name": "python3"
  },
  "language_info": {
   "codemirror_mode": {
    "name": "ipython",
    "version": 3
   },
   "file_extension": ".py",
   "mimetype": "text/x-python",
   "name": "python",
   "nbconvert_exporter": "python",
   "pygments_lexer": "ipython3",
   "version": "3.7.4"
  }
 },
 "nbformat": 4,
 "nbformat_minor": 4
}
