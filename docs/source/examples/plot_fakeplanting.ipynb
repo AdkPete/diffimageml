{
  "cells": [
    {
      "cell_type": "code",
      "execution_count": null,
      "metadata": {
        "collapsed": false
      },
      "outputs": [],
      "source": [
        "%matplotlib inline"
      ]
    },
    {
      "cell_type": "markdown",
      "metadata": {},
      "source": [
        "\n# Fake Source Planting\n\nDemonstration of planting fake PSFs in diff images to mimic\nstrongly-lensed supernovae.\n"
      ]
    },
    {
      "cell_type": "markdown",
      "metadata": {},
      "source": [
        "Explain here what this example does\n\n"
      ]
    },
    {
      "cell_type": "code",
      "execution_count": null,
      "metadata": {
        "collapsed": false
      },
      "outputs": [],
      "source": [
        "import os\nimport diffimageml\n\nHIDE = \"\"\"\n\n_SEARCHIM1_ = '../../test_data/sky_image_1.fits.fz'\nassert(os.path.isfile(_SEARCHIM1_))\nsearchim = diffimageml.FitsImage(_SEARCHIM1_)\n\n# ## Fetch a catalog of stars in the image from the Gaia db\nsearchim.fetch_gaia_sources(overwrite=False)\n\n# ## Do Photometry of the Gaia Stars\nsearchim.do_stellar_photometry(searchim.gaia_source_table)\n\n# show photometry of the gaia stars\n# searchim.plot_stellar_photometry()\n\n\n# ## Measure the zero point for this image from the Gaia stars\nsearchim.measure_zeropoint(showplot=False)\n\n\n# ## Build an ePSF Model from the Gaia stars that are not saturated\n\n# Find galaxies in the template image\n\n# ## Plant the ePSF model as fake lensed SNe around galaxies in the images\n\"\"\""
      ]
    }
  ],
  "metadata": {
    "kernelspec": {
      "display_name": "Python 3",
      "language": "python",
      "name": "python3"
    },
    "language_info": {
      "codemirror_mode": {
        "name": "ipython",
        "version": 3
      },
      "file_extension": ".py",
      "mimetype": "text/x-python",
      "name": "python",
      "nbconvert_exporter": "python",
      "pygments_lexer": "ipython3",
      "version": "3.7.9"
    }
  },
  "nbformat": 4,
  "nbformat_minor": 0
}